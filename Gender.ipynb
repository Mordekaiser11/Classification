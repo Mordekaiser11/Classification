{
 "cells": [
  {
   "cell_type": "code",
   "execution_count": 1,
   "id": "tough-benjamin",
   "metadata": {},
   "outputs": [],
   "source": [
    "import pandas as pd\n",
    "import numpy as np\n",
    "import sklearn\n",
    "import matplotlib.pyplot as plt\n",
    "import seaborn as sns\n",
    "import plotly\n",
    "from sklearn import preprocessing\n",
    "from sklearn.preprocessing import StandardScaler, Normalizer\n",
    "from sklearn.linear_model import LinearRegression\n",
    "from sklearn.model_selection import train_test_split\n",
    "from sklearn.linear_model import LassoCV, RidgeCV\n",
    "from yellowbrick.regressor import AlphaSelection\n",
    "from sklearn.metrics import r2_score, mean_squared_error\n",
    "from sklearn.linear_model import ElasticNetCV\n",
    "from sklearn.ensemble import GradientBoostingRegressor, AdaBoostRegressor, StackingRegressor"
   ]
  },
  {
   "cell_type": "code",
   "execution_count": 2,
   "id": "partial-consortium",
   "metadata": {},
   "outputs": [],
   "source": [
    "DataFrame = pd.read_csv(\"C:/Users/Monster/Desktop/archive/gen.csv\")"
   ]
  },
  {
   "cell_type": "code",
   "execution_count": 3,
   "id": "medical-longitude",
   "metadata": {},
   "outputs": [
    {
     "name": "stdout",
     "output_type": "stream",
     "text": [
      "<class 'pandas.core.frame.DataFrame'>\n",
      "RangeIndex: 5001 entries, 0 to 5000\n",
      "Data columns (total 8 columns):\n",
      " #   Column                     Non-Null Count  Dtype  \n",
      "---  ------                     --------------  -----  \n",
      " 0   long_hair                  5001 non-null   int64  \n",
      " 1   forehead_width_cm          5001 non-null   float64\n",
      " 2   forehead_height_cm         5001 non-null   float64\n",
      " 3   nose_wide                  5001 non-null   int64  \n",
      " 4   nose_long                  5001 non-null   int64  \n",
      " 5   lips_thin                  5001 non-null   int64  \n",
      " 6   distance_nose_to_lip_long  5001 non-null   int64  \n",
      " 7   gender                     5001 non-null   object \n",
      "dtypes: float64(2), int64(5), object(1)\n",
      "memory usage: 312.7+ KB\n"
     ]
    }
   ],
   "source": [
    "DataFrame.info()"
   ]
  },
  {
   "cell_type": "code",
   "execution_count": 4,
   "id": "raised-grass",
   "metadata": {},
   "outputs": [
    {
     "data": {
      "text/html": [
       "<div>\n",
       "<style scoped>\n",
       "    .dataframe tbody tr th:only-of-type {\n",
       "        vertical-align: middle;\n",
       "    }\n",
       "\n",
       "    .dataframe tbody tr th {\n",
       "        vertical-align: top;\n",
       "    }\n",
       "\n",
       "    .dataframe thead th {\n",
       "        text-align: right;\n",
       "    }\n",
       "</style>\n",
       "<table border=\"1\" class=\"dataframe\">\n",
       "  <thead>\n",
       "    <tr style=\"text-align: right;\">\n",
       "      <th></th>\n",
       "      <th>long_hair</th>\n",
       "      <th>forehead_width_cm</th>\n",
       "      <th>forehead_height_cm</th>\n",
       "      <th>nose_wide</th>\n",
       "      <th>nose_long</th>\n",
       "      <th>lips_thin</th>\n",
       "      <th>distance_nose_to_lip_long</th>\n",
       "    </tr>\n",
       "  </thead>\n",
       "  <tbody>\n",
       "    <tr>\n",
       "      <th>count</th>\n",
       "      <td>5001.000000</td>\n",
       "      <td>5001.000000</td>\n",
       "      <td>5001.000000</td>\n",
       "      <td>5001.000000</td>\n",
       "      <td>5001.000000</td>\n",
       "      <td>5001.000000</td>\n",
       "      <td>5001.000000</td>\n",
       "    </tr>\n",
       "    <tr>\n",
       "      <th>mean</th>\n",
       "      <td>0.869626</td>\n",
       "      <td>13.181484</td>\n",
       "      <td>5.946311</td>\n",
       "      <td>0.493901</td>\n",
       "      <td>0.507898</td>\n",
       "      <td>0.493101</td>\n",
       "      <td>0.498900</td>\n",
       "    </tr>\n",
       "    <tr>\n",
       "      <th>std</th>\n",
       "      <td>0.336748</td>\n",
       "      <td>1.107128</td>\n",
       "      <td>0.541268</td>\n",
       "      <td>0.500013</td>\n",
       "      <td>0.499988</td>\n",
       "      <td>0.500002</td>\n",
       "      <td>0.500049</td>\n",
       "    </tr>\n",
       "    <tr>\n",
       "      <th>min</th>\n",
       "      <td>0.000000</td>\n",
       "      <td>11.400000</td>\n",
       "      <td>5.100000</td>\n",
       "      <td>0.000000</td>\n",
       "      <td>0.000000</td>\n",
       "      <td>0.000000</td>\n",
       "      <td>0.000000</td>\n",
       "    </tr>\n",
       "    <tr>\n",
       "      <th>25%</th>\n",
       "      <td>1.000000</td>\n",
       "      <td>12.200000</td>\n",
       "      <td>5.500000</td>\n",
       "      <td>0.000000</td>\n",
       "      <td>0.000000</td>\n",
       "      <td>0.000000</td>\n",
       "      <td>0.000000</td>\n",
       "    </tr>\n",
       "    <tr>\n",
       "      <th>50%</th>\n",
       "      <td>1.000000</td>\n",
       "      <td>13.100000</td>\n",
       "      <td>5.900000</td>\n",
       "      <td>0.000000</td>\n",
       "      <td>1.000000</td>\n",
       "      <td>0.000000</td>\n",
       "      <td>0.000000</td>\n",
       "    </tr>\n",
       "    <tr>\n",
       "      <th>75%</th>\n",
       "      <td>1.000000</td>\n",
       "      <td>14.000000</td>\n",
       "      <td>6.400000</td>\n",
       "      <td>1.000000</td>\n",
       "      <td>1.000000</td>\n",
       "      <td>1.000000</td>\n",
       "      <td>1.000000</td>\n",
       "    </tr>\n",
       "    <tr>\n",
       "      <th>max</th>\n",
       "      <td>1.000000</td>\n",
       "      <td>15.500000</td>\n",
       "      <td>7.100000</td>\n",
       "      <td>1.000000</td>\n",
       "      <td>1.000000</td>\n",
       "      <td>1.000000</td>\n",
       "      <td>1.000000</td>\n",
       "    </tr>\n",
       "  </tbody>\n",
       "</table>\n",
       "</div>"
      ],
      "text/plain": [
       "         long_hair  forehead_width_cm  forehead_height_cm    nose_wide  \\\n",
       "count  5001.000000        5001.000000         5001.000000  5001.000000   \n",
       "mean      0.869626          13.181484            5.946311     0.493901   \n",
       "std       0.336748           1.107128            0.541268     0.500013   \n",
       "min       0.000000          11.400000            5.100000     0.000000   \n",
       "25%       1.000000          12.200000            5.500000     0.000000   \n",
       "50%       1.000000          13.100000            5.900000     0.000000   \n",
       "75%       1.000000          14.000000            6.400000     1.000000   \n",
       "max       1.000000          15.500000            7.100000     1.000000   \n",
       "\n",
       "         nose_long    lips_thin  distance_nose_to_lip_long  \n",
       "count  5001.000000  5001.000000                5001.000000  \n",
       "mean      0.507898     0.493101                   0.498900  \n",
       "std       0.499988     0.500002                   0.500049  \n",
       "min       0.000000     0.000000                   0.000000  \n",
       "25%       0.000000     0.000000                   0.000000  \n",
       "50%       1.000000     0.000000                   0.000000  \n",
       "75%       1.000000     1.000000                   1.000000  \n",
       "max       1.000000     1.000000                   1.000000  "
      ]
     },
     "execution_count": 4,
     "metadata": {},
     "output_type": "execute_result"
    }
   ],
   "source": [
    "DataFrame.describe()"
   ]
  },
  {
   "cell_type": "code",
   "execution_count": 16,
   "id": "advanced-philadelphia",
   "metadata": {},
   "outputs": [
    {
     "data": {
      "image/png": "[encoded data removed]",
      "text/plain": [
       "<Figure size 576x396 with 1 Axes>"
      ]
     },
     "metadata": {},
     "output_type": "display_data"
    }
   ],
   "source": [
    "graph = DataFrame.groupby('nose_wide').sum().iloc[:, 2].plot(kind='bar')"
   ]
  },
  {
   "cell_type": "code",
   "execution_count": 17,
   "id": "twenty-outside",
   "metadata": {},
   "outputs": [
    {
     "data": {
      "text/plain": [
       "<AxesSubplot:>"
      ]
     },
     "execution_count": 17,
     "metadata": {},
     "output_type": "execute_result"
    },
    {
     "data": {
      "image/png": "[encoded data removed]",
      "text/plain": [
       "<Figure size 576x396 with 1 Axes>"
      ]
     },
     "metadata": {},
     "output_type": "display_data"
    }
   ],
   "source": [
    "DataFrame.gender.value_counts().plot(kind= 'barh')"
   ]
  },
  {
   "cell_type": "code",
   "execution_count": 18,
   "id": "dominant-sweden",
   "metadata": {},
   "outputs": [
    {
     "data": {
      "text/html": [
       "<div>\n",
       "<style scoped>\n",
       "    .dataframe tbody tr th:only-of-type {\n",
       "        vertical-align: middle;\n",
       "    }\n",
       "\n",
       "    .dataframe tbody tr th {\n",
       "        vertical-align: top;\n",
       "    }\n",
       "\n",
       "    .dataframe thead th {\n",
       "        text-align: right;\n",
       "    }\n",
       "</style>\n",
       "<table border=\"1\" class=\"dataframe\">\n",
       "  <thead>\n",
       "    <tr style=\"text-align: right;\">\n",
       "      <th></th>\n",
       "      <th>long_hair</th>\n",
       "      <th>forehead_width_cm</th>\n",
       "      <th>forehead_height_cm</th>\n",
       "      <th>nose_wide</th>\n",
       "      <th>nose_long</th>\n",
       "      <th>lips_thin</th>\n",
       "      <th>distance_nose_to_lip_long</th>\n",
       "      <th>gender</th>\n",
       "    </tr>\n",
       "  </thead>\n",
       "  <tbody>\n",
       "    <tr>\n",
       "      <th>0</th>\n",
       "      <td>1</td>\n",
       "      <td>11.8</td>\n",
       "      <td>6.1</td>\n",
       "      <td>1</td>\n",
       "      <td>0</td>\n",
       "      <td>1</td>\n",
       "      <td>1</td>\n",
       "      <td>Male</td>\n",
       "    </tr>\n",
       "    <tr>\n",
       "      <th>1</th>\n",
       "      <td>0</td>\n",
       "      <td>14.0</td>\n",
       "      <td>5.4</td>\n",
       "      <td>0</td>\n",
       "      <td>0</td>\n",
       "      <td>1</td>\n",
       "      <td>0</td>\n",
       "      <td>Female</td>\n",
       "    </tr>\n",
       "    <tr>\n",
       "      <th>2</th>\n",
       "      <td>0</td>\n",
       "      <td>11.8</td>\n",
       "      <td>6.3</td>\n",
       "      <td>1</td>\n",
       "      <td>1</td>\n",
       "      <td>1</td>\n",
       "      <td>1</td>\n",
       "      <td>Male</td>\n",
       "    </tr>\n",
       "    <tr>\n",
       "      <th>3</th>\n",
       "      <td>0</td>\n",
       "      <td>14.4</td>\n",
       "      <td>6.1</td>\n",
       "      <td>0</td>\n",
       "      <td>1</td>\n",
       "      <td>1</td>\n",
       "      <td>1</td>\n",
       "      <td>Male</td>\n",
       "    </tr>\n",
       "    <tr>\n",
       "      <th>4</th>\n",
       "      <td>1</td>\n",
       "      <td>13.5</td>\n",
       "      <td>5.9</td>\n",
       "      <td>0</td>\n",
       "      <td>0</td>\n",
       "      <td>0</td>\n",
       "      <td>0</td>\n",
       "      <td>Female</td>\n",
       "    </tr>\n",
       "  </tbody>\n",
       "</table>\n",
       "</div>"
      ],
      "text/plain": [
       "   long_hair  forehead_width_cm  forehead_height_cm  nose_wide  nose_long  \\\n",
       "0          1               11.8                 6.1          1          0   \n",
       "1          0               14.0                 5.4          0          0   \n",
       "2          0               11.8                 6.3          1          1   \n",
       "3          0               14.4                 6.1          0          1   \n",
       "4          1               13.5                 5.9          0          0   \n",
       "\n",
       "   lips_thin  distance_nose_to_lip_long  gender  \n",
       "0          1                          1    Male  \n",
       "1          1                          0  Female  \n",
       "2          1                          1    Male  \n",
       "3          1                          1    Male  \n",
       "4          0                          0  Female  "
      ]
     },
     "execution_count": 18,
     "metadata": {},
     "output_type": "execute_result"
    }
   ],
   "source": [
    "DataFrame.head()"
   ]
  },
  {
   "cell_type": "code",
   "execution_count": 19,
   "id": "central-breast",
   "metadata": {},
   "outputs": [],
   "source": [
    "\n",
    "def label_encoder(DataFrame, column_name):\n",
    "    label_encoder = preprocessing.LabelEncoder()\n",
    "\n",
    "    DataFrame[column_name]= label_encoder.fit_transform(DataFrame[column_name])\n",
    "    print(column_name)\n",
    "    for i in range(len(DataFrame[column_name].unique())):\n",
    "        print(\"For {} : {}\".format(i, label_encoder.inverse_transform([i])))\n",
    "    print('-'*10)\n",
    "    print(DataFrame[column_name].value_counts())\n",
    "    print('-'*10)\n",
    "    \n",
    "    return DataFrame[column_name], label_encoder"
   ]
  },
  {
   "cell_type": "code",
   "execution_count": 20,
   "id": "metropolitan-impression",
   "metadata": {},
   "outputs": [
    {
     "name": "stdout",
     "output_type": "stream",
     "text": [
      "gender\n",
      "For 0 : ['Female']\n",
      "For 1 : ['Male']\n",
      "----------\n",
      "0    2501\n",
      "1    2500\n",
      "Name: gender, dtype: int64\n",
      "----------\n"
     ]
    }
   ],
   "source": [
    "DataFrame['gender'], label_encoder_posted_by = label_encoder(DataFrame, 'gender')"
   ]
  },
  {
   "cell_type": "code",
   "execution_count": 21,
   "id": "detected-present",
   "metadata": {},
   "outputs": [],
   "source": [
    "X = DataFrame.iloc[:, :-1]\n",
    "y = DataFrame.iloc[:, -1]"
   ]
  },
  {
   "cell_type": "code",
   "execution_count": 22,
   "id": "unlike-samuel",
   "metadata": {},
   "outputs": [],
   "source": [
    "\n",
    "scaler = StandardScaler()\n",
    "norm = Normalizer()\n",
    "\n",
    "X_stand = scaler.fit_transform(X)\n",
    "X_norm = norm.fit_transform(X)"
   ]
  },
  {
   "cell_type": "code",
   "execution_count": 23,
   "id": "available-essay",
   "metadata": {},
   "outputs": [],
   "source": [
    "X_stand_train, X_stand_test, y_stand_train, y_stand_test = train_test_split(X_stand, y, test_size=0.33, random_state=42)\n",
    "X_norm_train, X_norm_test, y_norm_train, y_norm_test = train_test_split(X_norm, y, test_size=0.33, random_state=42)\n",
    "X_train, X_test, y_train, y_test = train_test_split(X, y, test_size=0.33, random_state=42)"
   ]
  },
  {
   "cell_type": "code",
   "execution_count": 24,
   "id": "funky-catch",
   "metadata": {},
   "outputs": [],
   "source": [
    "def modelim(name, model):\n",
    "    classificationn = model.fit(X_train, y_train)\n",
    "    classificationn_standardscaleolan = model.fit(X_stand_train, y_stand_train)\n",
    "    classification_normalizeoolan = model.fit(X_norm_train, y_norm_train)\n",
    "    y_tahminyaniyüssü = classificationn.predict(X_test)\n",
    "    y_standardolanınüssü = classificationn_standardscaleolan.predict(X_stand_test)\n",
    "    y_normalizeüssü = classification_normalizeoolan.predict(X_norm_test)\n",
    "    print(name)\n",
    "    print(\"Orjinali:\")\n",
    "    print(\"R2 : \",r2_score(y_test, y_tahminyaniyüssü))\n",
    "    print(\"MSE : \",mean_squared_error(y_test, y_tahminyaniyüssü))\n",
    "    print(\"-\"*21)\n",
    "    print(\"Yani:\")\n",
    "    print(\"R2 : \",r2_score(y_stand_test, y_standardolanınüssü))\n",
    "    print(\"MSE : \",mean_squared_error(y_stand_test, y_standardolanınüssü))\n",
    "    print(\"-\"*7)\n",
    "    print(\"Normalize:\")\n",
    "    print(\"R2 : \",r2_score(y_norm_test,y_normalizeüssü))\n",
    "    print(\"MSE : \",mean_squared_error(y_norm_test, y_normalizeüssü))\n",
    "    print(\"=\"*10)\n",
    "    return classificationn, classificationn_standardscaleolan, classification_normalizeoolan"
   ]
  },
  {
   "cell_type": "code",
   "execution_count": 25,
   "id": "typical-guest",
   "metadata": {},
   "outputs": [
    {
     "name": "stdout",
     "output_type": "stream",
     "text": [
      "Linear Regression\n",
      "Orjinali:\n",
      "R2 :  -2187.787272346893\n",
      "MSE :  546.9509028118532\n",
      "---------------------\n",
      "Yani:\n",
      "R2 :  -726.9559876751647\n",
      "MSE :  181.90720939239966\n",
      "-------\n",
      "Normalize:\n",
      "R2 :  0.8072761760969694\n",
      "MSE :  0.04815930301170403\n",
      "==========\n",
      "Lasso Regression\n",
      "Orjinali:\n",
      "R2 :  -230.8950895417\n",
      "MSE :  57.94771843975101\n",
      "---------------------\n",
      "Yani:\n",
      "R2 :  -644.1466942769993\n",
      "MSE :  161.21418985707777\n",
      "-------\n",
      "Normalize:\n",
      "R2 :  0.8071292693828369\n",
      "MSE :  0.04819601318493057\n",
      "==========\n",
      "Ridge Regression\n",
      "Orjinali:\n",
      "R2 :  -143.77361807478994\n",
      "MSE :  36.177138870348465\n",
      "---------------------\n",
      "Yani:\n",
      "R2 :  -619.9348192629851\n",
      "MSE :  155.16394136331553\n",
      "-------\n",
      "Normalize:\n",
      "R2 :  0.8069741272350253\n",
      "MSE :  0.04823478129130701\n",
      "==========\n",
      "Elastic Net\n",
      "Orjinali:\n",
      "R2 :  -229.30212750640726\n",
      "MSE :  57.54965690386946\n",
      "---------------------\n",
      "Yani:\n",
      "R2 :  -638.6381898166271\n",
      "MSE :  159.8376826351068\n",
      "-------\n",
      "Normalize:\n",
      "R2 :  0.8070806109516857\n",
      "MSE :  0.048208172325831945\n",
      "==========\n",
      "Elastic Net\n",
      "Orjinali:\n",
      "R2 :  -229.30212750640726\n",
      "MSE :  57.54965690386946\n",
      "---------------------\n",
      "Yani:\n",
      "R2 :  -638.6381898166271\n",
      "MSE :  159.8376826351068\n",
      "-------\n",
      "Normalize:\n",
      "R2 :  0.8070806109516857\n",
      "MSE :  0.048208172325831945\n",
      "==========\n",
      "Gradient\n",
      "Orjinali:\n",
      "R2 :  0.3469342832941409\n",
      "MSE :  0.16319305574394305\n",
      "---------------------\n",
      "Yani:\n",
      "R2 :  -1.3178757868219568\n",
      "MSE :  0.579208528039668\n",
      "-------\n",
      "Normalize:\n",
      "R2 :  0.8936274108059574\n",
      "MSE :  0.026581196093914024\n",
      "==========\n",
      "Ada\n",
      "Orjinali:\n",
      "R2 :  0.8020934690734509\n",
      "MSE :  0.04945439747855159\n",
      "---------------------\n",
      "Yani:\n",
      "R2 :  0.7611326149052958\n",
      "MSE :  0.05969000897459029\n",
      "-------\n",
      "Normalize:\n",
      "R2 :  0.8281987336740159\n",
      "MSE :  0.042931014314818335\n",
      "==========\n"
     ]
    }
   ],
   "source": [
    "\n",
    "_,_, Linear = modelim(\"Linear Regression\", LinearRegression())\n",
    "_,_, Lasso = modelim(\"Lasso Regression\", LassoCV(cv=10))\n",
    "_,_, Ridge = modelim(\"Ridge Regression\", RidgeCV((0.1, 1.0, 5.0, 10)))\n",
    "_,_, ElasticNet = modelim(\"Elastic Net\", ElasticNetCV(l1_ratio=0.5))\n",
    "_,_, ElasticNet = modelim(\"Elastic Net\", ElasticNetCV())\n",
    "_,_, Gradient = modelim(\"Gradient\", GradientBoostingRegressor())\n",
    "_,_, AdaBoost = modelim(\"Ada\", AdaBoostRegressor())"
   ]
  },
  {
   "cell_type": "code",
   "execution_count": null,
   "id": "legislative-messaging",
   "metadata": {},
   "outputs": [],
   "source": []
  }
 ],
 "metadata": {
  "kernelspec": {
   "display_name": "Python 3",
   "language": "python",
   "name": "python3"
  },
  "language_info": {
   "codemirror_mode": {
    "name": "ipython",
    "version": 3
   },
   "file_extension": ".py",
   "mimetype": "text/x-python",
   "name": "python",
   "nbconvert_exporter": "python",
   "pygments_lexer": "ipython3",
   "version": "3.8.5"
  }
 },
 "nbformat": 4,
 "nbformat_minor": 5
}
